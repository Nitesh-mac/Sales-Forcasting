{
 "cells": [
  {
   "cell_type": "code",
   "execution_count": 1,
   "id": "52f7710e",
   "metadata": {
    "_cell_guid": "b1076dfc-b9ad-4769-8c92-a6c4dae69d19",
    "_uuid": "8f2839f25d086af736a60e9eeb907d3b93b6e0e5",
    "execution": {
     "iopub.execute_input": "2021-10-09T05:25:58.807109Z",
     "iopub.status.busy": "2021-10-09T05:25:58.806382Z",
     "iopub.status.idle": "2021-10-09T05:25:58.813973Z",
     "shell.execute_reply": "2021-10-09T05:25:58.813002Z",
     "shell.execute_reply.started": "2021-10-09T04:55:50.813843Z"
    },
    "papermill": {
     "duration": 0.057513,
     "end_time": "2021-10-09T05:25:58.814245",
     "exception": false,
     "start_time": "2021-10-09T05:25:58.756732",
     "status": "completed"
    },
    "tags": []
   },
   "outputs": [
    {
     "name": "stdout",
     "output_type": "stream",
     "text": [
      "/kaggle/input/m5-forecasting-accuracy/calendar.csv\n",
      "/kaggle/input/m5-forecasting-accuracy/sample_submission.csv\n",
      "/kaggle/input/m5-forecasting-accuracy/sell_prices.csv\n",
      "/kaggle/input/m5-forecasting-accuracy/sales_train_validation.csv\n",
      "/kaggle/input/m5-forecasting-accuracy/sales_train_evaluation.csv\n"
     ]
    }
   ],
   "source": [
    "# This Python 3 environment comes with many helpful analytics libraries installed\n",
    "# It is defined by the kaggle/python Docker image: https://github.com/kaggle/docker-python\n",
    "# For example, here's several helpful packages to load\n",
    "\n",
    "import numpy as np # linear algebra\n",
    "import pandas as pd # data processing, CSV file I/O (e.g. pd.read_csv)\n",
    "\n",
    "# Input data files are available in the read-only \"../input/\" directory\n",
    "# For example, running this (by clicking run or pressing Shift+Enter) will list all files under the input directory\n",
    "\n",
    "import os\n",
    "for dirname, _, filenames in os.walk('/kaggle/input'):\n",
    "    for filename in filenames:\n",
    "        print(os.path.join(dirname, filename))\n",
    "\n",
    "# You can write up to 20GB to the current directory (/kaggle/working/) that gets preserved as output when you create a version using \"Save & Run All\" \n",
    "# You can also write temporary files to /kaggle/temp/, but they won't be saved outside of the current session"
   ]
  },
  {
   "cell_type": "code",
   "execution_count": 2,
   "id": "28761fc7",
   "metadata": {
    "execution": {
     "iopub.execute_input": "2021-10-09T05:25:58.880171Z",
     "iopub.status.busy": "2021-10-09T05:25:58.878994Z",
     "iopub.status.idle": "2021-10-09T05:25:58.881503Z",
     "shell.execute_reply": "2021-10-09T05:25:58.882081Z",
     "shell.execute_reply.started": "2021-10-09T04:55:50.831012Z"
    },
    "papermill": {
     "duration": 0.033679,
     "end_time": "2021-10-09T05:25:58.882434",
     "exception": false,
     "start_time": "2021-10-09T05:25:58.848755",
     "status": "completed"
    },
    "tags": []
   },
   "outputs": [],
   "source": [
    "timesteps = 14\n",
    "startDay = 350"
   ]
  },
  {
   "cell_type": "code",
   "execution_count": 3,
   "id": "6b87922a",
   "metadata": {
    "execution": {
     "iopub.execute_input": "2021-10-09T05:25:58.945136Z",
     "iopub.status.busy": "2021-10-09T05:25:58.944431Z",
     "iopub.status.idle": "2021-10-09T05:26:08.988012Z",
     "shell.execute_reply": "2021-10-09T05:26:08.987433Z",
     "shell.execute_reply.started": "2021-10-09T04:55:50.843728Z"
    },
    "papermill": {
     "duration": 10.076055,
     "end_time": "2021-10-09T05:26:08.988232",
     "exception": false,
     "start_time": "2021-10-09T05:25:58.912177",
     "status": "completed"
    },
    "tags": []
   },
   "outputs": [],
   "source": [
    "calendar = pd.read_csv('/kaggle/input/m5-forecasting-accuracy/calendar.csv')\n",
    "sell_prices = pd.read_csv('/kaggle/input/m5-forecasting-accuracy/sell_prices.csv')\n",
    "\n",
    "sales_train_evaluation = pd.read_csv('/kaggle/input/m5-forecasting-accuracy/sales_train_evaluation.csv')"
   ]
  },
  {
   "cell_type": "code",
   "execution_count": 4,
   "id": "0a29a785",
   "metadata": {
    "execution": {
     "iopub.execute_input": "2021-10-09T05:26:09.046697Z",
     "iopub.status.busy": "2021-10-09T05:26:09.045928Z",
     "iopub.status.idle": "2021-10-09T05:26:09.048874Z",
     "shell.execute_reply": "2021-10-09T05:26:09.048323Z",
     "shell.execute_reply.started": "2021-10-09T04:55:59.960326Z"
    },
    "papermill": {
     "duration": 0.033811,
     "end_time": "2021-10-09T05:26:09.049039",
     "exception": false,
     "start_time": "2021-10-09T05:26:09.015228",
     "status": "completed"
    },
    "tags": []
   },
   "outputs": [],
   "source": [
    "def downcast_dtypes(df):\n",
    "    float_cols = [c for c in df if df[c].dtype == \"float64\"]\n",
    "    int_cols = [c for c in df if df[c].dtype in [\"int64\", \"int32\"]]\n",
    "    df[float_cols] = df[float_cols].astype(np.float32)\n",
    "    df[int_cols] = df[int_cols].astype(np.int16)\n",
    "    return df"
   ]
  },
  {
   "cell_type": "code",
   "execution_count": 5,
   "id": "0d744921",
   "metadata": {
    "execution": {
     "iopub.execute_input": "2021-10-09T05:26:09.103707Z",
     "iopub.status.busy": "2021-10-09T05:26:09.102994Z",
     "iopub.status.idle": "2021-10-09T05:26:14.012603Z",
     "shell.execute_reply": "2021-10-09T05:26:14.011882Z",
     "shell.execute_reply.started": "2021-10-09T04:55:59.969118Z"
    },
    "papermill": {
     "duration": 4.938642,
     "end_time": "2021-10-09T05:26:14.012815",
     "exception": false,
     "start_time": "2021-10-09T05:26:09.074173",
     "status": "completed"
    },
    "tags": []
   },
   "outputs": [],
   "source": [
    "sales_train_validation = pd.read_csv('/kaggle/input/m5-forecasting-accuracy/sales_train_validation.csv')"
   ]
  },
  {
   "cell_type": "code",
   "execution_count": 6,
   "id": "05938184",
   "metadata": {
    "execution": {
     "iopub.execute_input": "2021-10-09T05:26:14.078728Z",
     "iopub.status.busy": "2021-10-09T05:26:14.078054Z",
     "iopub.status.idle": "2021-10-09T05:28:34.200968Z",
     "shell.execute_reply": "2021-10-09T05:28:34.201494Z",
     "shell.execute_reply.started": "2021-10-09T04:56:04.866362Z"
    },
    "papermill": {
     "duration": 140.161054,
     "end_time": "2021-10-09T05:28:34.201751",
     "exception": false,
     "start_time": "2021-10-09T05:26:14.040697",
     "status": "completed"
    },
    "tags": []
   },
   "outputs": [],
   "source": [
    "dt = downcast_dtypes(sales_train_evaluation)"
   ]
  },
  {
   "cell_type": "code",
   "execution_count": 7,
   "id": "3fb7afe5",
   "metadata": {
    "execution": {
     "iopub.execute_input": "2021-10-09T05:28:34.258703Z",
     "iopub.status.busy": "2021-10-09T05:28:34.257932Z",
     "iopub.status.idle": "2021-10-09T05:28:40.335449Z",
     "shell.execute_reply": "2021-10-09T05:28:40.334390Z",
     "shell.execute_reply.started": "2021-10-09T04:58:33.847169Z"
    },
    "papermill": {
     "duration": 6.10731,
     "end_time": "2021-10-09T05:28:40.335699",
     "exception": false,
     "start_time": "2021-10-09T05:28:34.228389",
     "status": "completed"
    },
    "tags": []
   },
   "outputs": [
    {
     "data": {
      "text/html": [
       "<div>\n",
       "<style scoped>\n",
       "    .dataframe tbody tr th:only-of-type {\n",
       "        vertical-align: middle;\n",
       "    }\n",
       "\n",
       "    .dataframe tbody tr th {\n",
       "        vertical-align: top;\n",
       "    }\n",
       "\n",
       "    .dataframe thead th {\n",
       "        text-align: right;\n",
       "    }\n",
       "</style>\n",
       "<table border=\"1\" class=\"dataframe\">\n",
       "  <thead>\n",
       "    <tr style=\"text-align: right;\">\n",
       "      <th></th>\n",
       "      <th>0</th>\n",
       "      <th>1</th>\n",
       "      <th>2</th>\n",
       "      <th>3</th>\n",
       "      <th>4</th>\n",
       "      <th>5</th>\n",
       "      <th>6</th>\n",
       "      <th>7</th>\n",
       "      <th>8</th>\n",
       "      <th>9</th>\n",
       "      <th>...</th>\n",
       "      <th>30480</th>\n",
       "      <th>30481</th>\n",
       "      <th>30482</th>\n",
       "      <th>30483</th>\n",
       "      <th>30484</th>\n",
       "      <th>30485</th>\n",
       "      <th>30486</th>\n",
       "      <th>30487</th>\n",
       "      <th>30488</th>\n",
       "      <th>30489</th>\n",
       "    </tr>\n",
       "  </thead>\n",
       "  <tbody>\n",
       "    <tr>\n",
       "      <th>id</th>\n",
       "      <td>HOBBIES_1_001_CA_1_evaluation</td>\n",
       "      <td>HOBBIES_1_002_CA_1_evaluation</td>\n",
       "      <td>HOBBIES_1_003_CA_1_evaluation</td>\n",
       "      <td>HOBBIES_1_004_CA_1_evaluation</td>\n",
       "      <td>HOBBIES_1_005_CA_1_evaluation</td>\n",
       "      <td>HOBBIES_1_006_CA_1_evaluation</td>\n",
       "      <td>HOBBIES_1_007_CA_1_evaluation</td>\n",
       "      <td>HOBBIES_1_008_CA_1_evaluation</td>\n",
       "      <td>HOBBIES_1_009_CA_1_evaluation</td>\n",
       "      <td>HOBBIES_1_010_CA_1_evaluation</td>\n",
       "      <td>...</td>\n",
       "      <td>FOODS_3_818_WI_3_evaluation</td>\n",
       "      <td>FOODS_3_819_WI_3_evaluation</td>\n",
       "      <td>FOODS_3_820_WI_3_evaluation</td>\n",
       "      <td>FOODS_3_821_WI_3_evaluation</td>\n",
       "      <td>FOODS_3_822_WI_3_evaluation</td>\n",
       "      <td>FOODS_3_823_WI_3_evaluation</td>\n",
       "      <td>FOODS_3_824_WI_3_evaluation</td>\n",
       "      <td>FOODS_3_825_WI_3_evaluation</td>\n",
       "      <td>FOODS_3_826_WI_3_evaluation</td>\n",
       "      <td>FOODS_3_827_WI_3_evaluation</td>\n",
       "    </tr>\n",
       "    <tr>\n",
       "      <th>item_id</th>\n",
       "      <td>HOBBIES_1_001</td>\n",
       "      <td>HOBBIES_1_002</td>\n",
       "      <td>HOBBIES_1_003</td>\n",
       "      <td>HOBBIES_1_004</td>\n",
       "      <td>HOBBIES_1_005</td>\n",
       "      <td>HOBBIES_1_006</td>\n",
       "      <td>HOBBIES_1_007</td>\n",
       "      <td>HOBBIES_1_008</td>\n",
       "      <td>HOBBIES_1_009</td>\n",
       "      <td>HOBBIES_1_010</td>\n",
       "      <td>...</td>\n",
       "      <td>FOODS_3_818</td>\n",
       "      <td>FOODS_3_819</td>\n",
       "      <td>FOODS_3_820</td>\n",
       "      <td>FOODS_3_821</td>\n",
       "      <td>FOODS_3_822</td>\n",
       "      <td>FOODS_3_823</td>\n",
       "      <td>FOODS_3_824</td>\n",
       "      <td>FOODS_3_825</td>\n",
       "      <td>FOODS_3_826</td>\n",
       "      <td>FOODS_3_827</td>\n",
       "    </tr>\n",
       "    <tr>\n",
       "      <th>dept_id</th>\n",
       "      <td>HOBBIES_1</td>\n",
       "      <td>HOBBIES_1</td>\n",
       "      <td>HOBBIES_1</td>\n",
       "      <td>HOBBIES_1</td>\n",
       "      <td>HOBBIES_1</td>\n",
       "      <td>HOBBIES_1</td>\n",
       "      <td>HOBBIES_1</td>\n",
       "      <td>HOBBIES_1</td>\n",
       "      <td>HOBBIES_1</td>\n",
       "      <td>HOBBIES_1</td>\n",
       "      <td>...</td>\n",
       "      <td>FOODS_3</td>\n",
       "      <td>FOODS_3</td>\n",
       "      <td>FOODS_3</td>\n",
       "      <td>FOODS_3</td>\n",
       "      <td>FOODS_3</td>\n",
       "      <td>FOODS_3</td>\n",
       "      <td>FOODS_3</td>\n",
       "      <td>FOODS_3</td>\n",
       "      <td>FOODS_3</td>\n",
       "      <td>FOODS_3</td>\n",
       "    </tr>\n",
       "    <tr>\n",
       "      <th>cat_id</th>\n",
       "      <td>HOBBIES</td>\n",
       "      <td>HOBBIES</td>\n",
       "      <td>HOBBIES</td>\n",
       "      <td>HOBBIES</td>\n",
       "      <td>HOBBIES</td>\n",
       "      <td>HOBBIES</td>\n",
       "      <td>HOBBIES</td>\n",
       "      <td>HOBBIES</td>\n",
       "      <td>HOBBIES</td>\n",
       "      <td>HOBBIES</td>\n",
       "      <td>...</td>\n",
       "      <td>FOODS</td>\n",
       "      <td>FOODS</td>\n",
       "      <td>FOODS</td>\n",
       "      <td>FOODS</td>\n",
       "      <td>FOODS</td>\n",
       "      <td>FOODS</td>\n",
       "      <td>FOODS</td>\n",
       "      <td>FOODS</td>\n",
       "      <td>FOODS</td>\n",
       "      <td>FOODS</td>\n",
       "    </tr>\n",
       "    <tr>\n",
       "      <th>store_id</th>\n",
       "      <td>CA_1</td>\n",
       "      <td>CA_1</td>\n",
       "      <td>CA_1</td>\n",
       "      <td>CA_1</td>\n",
       "      <td>CA_1</td>\n",
       "      <td>CA_1</td>\n",
       "      <td>CA_1</td>\n",
       "      <td>CA_1</td>\n",
       "      <td>CA_1</td>\n",
       "      <td>CA_1</td>\n",
       "      <td>...</td>\n",
       "      <td>WI_3</td>\n",
       "      <td>WI_3</td>\n",
       "      <td>WI_3</td>\n",
       "      <td>WI_3</td>\n",
       "      <td>WI_3</td>\n",
       "      <td>WI_3</td>\n",
       "      <td>WI_3</td>\n",
       "      <td>WI_3</td>\n",
       "      <td>WI_3</td>\n",
       "      <td>WI_3</td>\n",
       "    </tr>\n",
       "    <tr>\n",
       "      <th>state_id</th>\n",
       "      <td>CA</td>\n",
       "      <td>CA</td>\n",
       "      <td>CA</td>\n",
       "      <td>CA</td>\n",
       "      <td>CA</td>\n",
       "      <td>CA</td>\n",
       "      <td>CA</td>\n",
       "      <td>CA</td>\n",
       "      <td>CA</td>\n",
       "      <td>CA</td>\n",
       "      <td>...</td>\n",
       "      <td>WI</td>\n",
       "      <td>WI</td>\n",
       "      <td>WI</td>\n",
       "      <td>WI</td>\n",
       "      <td>WI</td>\n",
       "      <td>WI</td>\n",
       "      <td>WI</td>\n",
       "      <td>WI</td>\n",
       "      <td>WI</td>\n",
       "      <td>WI</td>\n",
       "    </tr>\n",
       "    <tr>\n",
       "      <th>d_1</th>\n",
       "      <td>0</td>\n",
       "      <td>0</td>\n",
       "      <td>0</td>\n",
       "      <td>0</td>\n",
       "      <td>0</td>\n",
       "      <td>0</td>\n",
       "      <td>0</td>\n",
       "      <td>12</td>\n",
       "      <td>2</td>\n",
       "      <td>0</td>\n",
       "      <td>...</td>\n",
       "      <td>0</td>\n",
       "      <td>14</td>\n",
       "      <td>1</td>\n",
       "      <td>0</td>\n",
       "      <td>4</td>\n",
       "      <td>0</td>\n",
       "      <td>0</td>\n",
       "      <td>0</td>\n",
       "      <td>0</td>\n",
       "      <td>0</td>\n",
       "    </tr>\n",
       "    <tr>\n",
       "      <th>d_2</th>\n",
       "      <td>0</td>\n",
       "      <td>0</td>\n",
       "      <td>0</td>\n",
       "      <td>0</td>\n",
       "      <td>0</td>\n",
       "      <td>0</td>\n",
       "      <td>0</td>\n",
       "      <td>15</td>\n",
       "      <td>0</td>\n",
       "      <td>0</td>\n",
       "      <td>...</td>\n",
       "      <td>0</td>\n",
       "      <td>11</td>\n",
       "      <td>1</td>\n",
       "      <td>0</td>\n",
       "      <td>4</td>\n",
       "      <td>0</td>\n",
       "      <td>0</td>\n",
       "      <td>6</td>\n",
       "      <td>0</td>\n",
       "      <td>0</td>\n",
       "    </tr>\n",
       "  </tbody>\n",
       "</table>\n",
       "<p>8 rows × 30490 columns</p>\n",
       "</div>"
      ],
      "text/plain": [
       "                                  0                              1      \\\n",
       "id        HOBBIES_1_001_CA_1_evaluation  HOBBIES_1_002_CA_1_evaluation   \n",
       "item_id                   HOBBIES_1_001                  HOBBIES_1_002   \n",
       "dept_id                       HOBBIES_1                      HOBBIES_1   \n",
       "cat_id                          HOBBIES                        HOBBIES   \n",
       "store_id                           CA_1                           CA_1   \n",
       "state_id                             CA                             CA   \n",
       "d_1                                   0                              0   \n",
       "d_2                                   0                              0   \n",
       "\n",
       "                                  2                              3      \\\n",
       "id        HOBBIES_1_003_CA_1_evaluation  HOBBIES_1_004_CA_1_evaluation   \n",
       "item_id                   HOBBIES_1_003                  HOBBIES_1_004   \n",
       "dept_id                       HOBBIES_1                      HOBBIES_1   \n",
       "cat_id                          HOBBIES                        HOBBIES   \n",
       "store_id                           CA_1                           CA_1   \n",
       "state_id                             CA                             CA   \n",
       "d_1                                   0                              0   \n",
       "d_2                                   0                              0   \n",
       "\n",
       "                                  4                              5      \\\n",
       "id        HOBBIES_1_005_CA_1_evaluation  HOBBIES_1_006_CA_1_evaluation   \n",
       "item_id                   HOBBIES_1_005                  HOBBIES_1_006   \n",
       "dept_id                       HOBBIES_1                      HOBBIES_1   \n",
       "cat_id                          HOBBIES                        HOBBIES   \n",
       "store_id                           CA_1                           CA_1   \n",
       "state_id                             CA                             CA   \n",
       "d_1                                   0                              0   \n",
       "d_2                                   0                              0   \n",
       "\n",
       "                                  6                              7      \\\n",
       "id        HOBBIES_1_007_CA_1_evaluation  HOBBIES_1_008_CA_1_evaluation   \n",
       "item_id                   HOBBIES_1_007                  HOBBIES_1_008   \n",
       "dept_id                       HOBBIES_1                      HOBBIES_1   \n",
       "cat_id                          HOBBIES                        HOBBIES   \n",
       "store_id                           CA_1                           CA_1   \n",
       "state_id                             CA                             CA   \n",
       "d_1                                   0                             12   \n",
       "d_2                                   0                             15   \n",
       "\n",
       "                                  8                              9      ...  \\\n",
       "id        HOBBIES_1_009_CA_1_evaluation  HOBBIES_1_010_CA_1_evaluation  ...   \n",
       "item_id                   HOBBIES_1_009                  HOBBIES_1_010  ...   \n",
       "dept_id                       HOBBIES_1                      HOBBIES_1  ...   \n",
       "cat_id                          HOBBIES                        HOBBIES  ...   \n",
       "store_id                           CA_1                           CA_1  ...   \n",
       "state_id                             CA                             CA  ...   \n",
       "d_1                                   2                              0  ...   \n",
       "d_2                                   0                              0  ...   \n",
       "\n",
       "                                30480                        30481  \\\n",
       "id        FOODS_3_818_WI_3_evaluation  FOODS_3_819_WI_3_evaluation   \n",
       "item_id                   FOODS_3_818                  FOODS_3_819   \n",
       "dept_id                       FOODS_3                      FOODS_3   \n",
       "cat_id                          FOODS                        FOODS   \n",
       "store_id                         WI_3                         WI_3   \n",
       "state_id                           WI                           WI   \n",
       "d_1                                 0                           14   \n",
       "d_2                                 0                           11   \n",
       "\n",
       "                                30482                        30483  \\\n",
       "id        FOODS_3_820_WI_3_evaluation  FOODS_3_821_WI_3_evaluation   \n",
       "item_id                   FOODS_3_820                  FOODS_3_821   \n",
       "dept_id                       FOODS_3                      FOODS_3   \n",
       "cat_id                          FOODS                        FOODS   \n",
       "store_id                         WI_3                         WI_3   \n",
       "state_id                           WI                           WI   \n",
       "d_1                                 1                            0   \n",
       "d_2                                 1                            0   \n",
       "\n",
       "                                30484                        30485  \\\n",
       "id        FOODS_3_822_WI_3_evaluation  FOODS_3_823_WI_3_evaluation   \n",
       "item_id                   FOODS_3_822                  FOODS_3_823   \n",
       "dept_id                       FOODS_3                      FOODS_3   \n",
       "cat_id                          FOODS                        FOODS   \n",
       "store_id                         WI_3                         WI_3   \n",
       "state_id                           WI                           WI   \n",
       "d_1                                 4                            0   \n",
       "d_2                                 4                            0   \n",
       "\n",
       "                                30486                        30487  \\\n",
       "id        FOODS_3_824_WI_3_evaluation  FOODS_3_825_WI_3_evaluation   \n",
       "item_id                   FOODS_3_824                  FOODS_3_825   \n",
       "dept_id                       FOODS_3                      FOODS_3   \n",
       "cat_id                          FOODS                        FOODS   \n",
       "store_id                         WI_3                         WI_3   \n",
       "state_id                           WI                           WI   \n",
       "d_1                                 0                            0   \n",
       "d_2                                 0                            6   \n",
       "\n",
       "                                30488                        30489  \n",
       "id        FOODS_3_826_WI_3_evaluation  FOODS_3_827_WI_3_evaluation  \n",
       "item_id                   FOODS_3_826                  FOODS_3_827  \n",
       "dept_id                       FOODS_3                      FOODS_3  \n",
       "cat_id                          FOODS                        FOODS  \n",
       "store_id                         WI_3                         WI_3  \n",
       "state_id                           WI                           WI  \n",
       "d_1                                 0                            0  \n",
       "d_2                                 0                            0  \n",
       "\n",
       "[8 rows x 30490 columns]"
      ]
     },
     "execution_count": 7,
     "metadata": {},
     "output_type": "execute_result"
    }
   ],
   "source": [
    "dt = dt.T    \n",
    "dt.head(8)"
   ]
  },
  {
   "cell_type": "code",
   "execution_count": 8,
   "id": "946640d6",
   "metadata": {
    "execution": {
     "iopub.execute_input": "2021-10-09T05:28:40.396504Z",
     "iopub.status.busy": "2021-10-09T05:28:40.395278Z",
     "iopub.status.idle": "2021-10-09T05:28:40.414727Z",
     "shell.execute_reply": "2021-10-09T05:28:40.415618Z",
     "shell.execute_reply.started": "2021-10-09T04:58:42.692088Z"
    },
    "papermill": {
     "duration": 0.053341,
     "end_time": "2021-10-09T05:28:40.415896",
     "exception": false,
     "start_time": "2021-10-09T05:28:40.362555",
     "status": "completed"
    },
    "tags": []
   },
   "outputs": [
    {
     "data": {
      "text/html": [
       "<div>\n",
       "<style scoped>\n",
       "    .dataframe tbody tr th:only-of-type {\n",
       "        vertical-align: middle;\n",
       "    }\n",
       "\n",
       "    .dataframe tbody tr th {\n",
       "        vertical-align: top;\n",
       "    }\n",
       "\n",
       "    .dataframe thead th {\n",
       "        text-align: right;\n",
       "    }\n",
       "</style>\n",
       "<table border=\"1\" class=\"dataframe\">\n",
       "  <thead>\n",
       "    <tr style=\"text-align: right;\">\n",
       "      <th></th>\n",
       "      <th>0</th>\n",
       "      <th>1</th>\n",
       "      <th>2</th>\n",
       "      <th>3</th>\n",
       "      <th>4</th>\n",
       "      <th>5</th>\n",
       "      <th>6</th>\n",
       "      <th>7</th>\n",
       "      <th>8</th>\n",
       "      <th>9</th>\n",
       "      <th>...</th>\n",
       "      <th>30480</th>\n",
       "      <th>30481</th>\n",
       "      <th>30482</th>\n",
       "      <th>30483</th>\n",
       "      <th>30484</th>\n",
       "      <th>30485</th>\n",
       "      <th>30486</th>\n",
       "      <th>30487</th>\n",
       "      <th>30488</th>\n",
       "      <th>30489</th>\n",
       "    </tr>\n",
       "  </thead>\n",
       "  <tbody>\n",
       "    <tr>\n",
       "      <th>d_351</th>\n",
       "      <td>0</td>\n",
       "      <td>0</td>\n",
       "      <td>0</td>\n",
       "      <td>2</td>\n",
       "      <td>0</td>\n",
       "      <td>0</td>\n",
       "      <td>0</td>\n",
       "      <td>24</td>\n",
       "      <td>3</td>\n",
       "      <td>2</td>\n",
       "      <td>...</td>\n",
       "      <td>0</td>\n",
       "      <td>9</td>\n",
       "      <td>1</td>\n",
       "      <td>0</td>\n",
       "      <td>11</td>\n",
       "      <td>0</td>\n",
       "      <td>0</td>\n",
       "      <td>1</td>\n",
       "      <td>0</td>\n",
       "      <td>0</td>\n",
       "    </tr>\n",
       "    <tr>\n",
       "      <th>d_352</th>\n",
       "      <td>0</td>\n",
       "      <td>0</td>\n",
       "      <td>0</td>\n",
       "      <td>0</td>\n",
       "      <td>0</td>\n",
       "      <td>0</td>\n",
       "      <td>0</td>\n",
       "      <td>9</td>\n",
       "      <td>0</td>\n",
       "      <td>2</td>\n",
       "      <td>...</td>\n",
       "      <td>0</td>\n",
       "      <td>5</td>\n",
       "      <td>4</td>\n",
       "      <td>0</td>\n",
       "      <td>8</td>\n",
       "      <td>0</td>\n",
       "      <td>1</td>\n",
       "      <td>2</td>\n",
       "      <td>0</td>\n",
       "      <td>0</td>\n",
       "    </tr>\n",
       "    <tr>\n",
       "      <th>d_353</th>\n",
       "      <td>0</td>\n",
       "      <td>0</td>\n",
       "      <td>0</td>\n",
       "      <td>4</td>\n",
       "      <td>2</td>\n",
       "      <td>0</td>\n",
       "      <td>0</td>\n",
       "      <td>2</td>\n",
       "      <td>1</td>\n",
       "      <td>1</td>\n",
       "      <td>...</td>\n",
       "      <td>0</td>\n",
       "      <td>15</td>\n",
       "      <td>2</td>\n",
       "      <td>0</td>\n",
       "      <td>3</td>\n",
       "      <td>0</td>\n",
       "      <td>1</td>\n",
       "      <td>2</td>\n",
       "      <td>0</td>\n",
       "      <td>0</td>\n",
       "    </tr>\n",
       "    <tr>\n",
       "      <th>d_354</th>\n",
       "      <td>0</td>\n",
       "      <td>1</td>\n",
       "      <td>0</td>\n",
       "      <td>2</td>\n",
       "      <td>0</td>\n",
       "      <td>0</td>\n",
       "      <td>0</td>\n",
       "      <td>7</td>\n",
       "      <td>1</td>\n",
       "      <td>0</td>\n",
       "      <td>...</td>\n",
       "      <td>0</td>\n",
       "      <td>5</td>\n",
       "      <td>1</td>\n",
       "      <td>0</td>\n",
       "      <td>3</td>\n",
       "      <td>0</td>\n",
       "      <td>0</td>\n",
       "      <td>0</td>\n",
       "      <td>0</td>\n",
       "      <td>0</td>\n",
       "    </tr>\n",
       "    <tr>\n",
       "      <th>d_355</th>\n",
       "      <td>0</td>\n",
       "      <td>0</td>\n",
       "      <td>0</td>\n",
       "      <td>1</td>\n",
       "      <td>2</td>\n",
       "      <td>0</td>\n",
       "      <td>0</td>\n",
       "      <td>0</td>\n",
       "      <td>0</td>\n",
       "      <td>0</td>\n",
       "      <td>...</td>\n",
       "      <td>0</td>\n",
       "      <td>7</td>\n",
       "      <td>1</td>\n",
       "      <td>0</td>\n",
       "      <td>1</td>\n",
       "      <td>0</td>\n",
       "      <td>1</td>\n",
       "      <td>1</td>\n",
       "      <td>0</td>\n",
       "      <td>0</td>\n",
       "    </tr>\n",
       "  </tbody>\n",
       "</table>\n",
       "<p>5 rows × 30490 columns</p>\n",
       "</div>"
      ],
      "text/plain": [
       "      0     1     2     3     4     5     6     7     8     9      ... 30480  \\\n",
       "d_351     0     0     0     2     0     0     0    24     3     2  ...     0   \n",
       "d_352     0     0     0     0     0     0     0     9     0     2  ...     0   \n",
       "d_353     0     0     0     4     2     0     0     2     1     1  ...     0   \n",
       "d_354     0     1     0     2     0     0     0     7     1     0  ...     0   \n",
       "d_355     0     0     0     1     2     0     0     0     0     0  ...     0   \n",
       "\n",
       "      30481 30482 30483 30484 30485 30486 30487 30488 30489  \n",
       "d_351     9     1     0    11     0     0     1     0     0  \n",
       "d_352     5     4     0     8     0     1     2     0     0  \n",
       "d_353    15     2     0     3     0     1     2     0     0  \n",
       "d_354     5     1     0     3     0     0     0     0     0  \n",
       "d_355     7     1     0     1     0     1     1     0     0  \n",
       "\n",
       "[5 rows x 30490 columns]"
      ]
     },
     "execution_count": 8,
     "metadata": {},
     "output_type": "execute_result"
    }
   ],
   "source": [
    "dt = dt[6 + startDay:]\n",
    "dt.head(5)"
   ]
  },
  {
   "cell_type": "code",
   "execution_count": 9,
   "id": "e703cd64",
   "metadata": {
    "execution": {
     "iopub.execute_input": "2021-10-09T05:28:40.483181Z",
     "iopub.status.busy": "2021-10-09T05:28:40.481670Z",
     "iopub.status.idle": "2021-10-09T05:28:40.483956Z",
     "shell.execute_reply": "2021-10-09T05:28:40.482421Z",
     "shell.execute_reply.started": "2021-10-09T04:58:42.721434Z"
    },
    "papermill": {
     "duration": 0.041795,
     "end_time": "2021-10-09T05:28:40.484138",
     "exception": false,
     "start_time": "2021-10-09T05:28:40.442343",
     "status": "completed"
    },
    "tags": []
   },
   "outputs": [],
   "source": [
    "daysBeforeEvent = pd.DataFrame(np.zeros((1969,1)))"
   ]
  },
  {
   "cell_type": "code",
   "execution_count": 10,
   "id": "35e5e031",
   "metadata": {
    "execution": {
     "iopub.execute_input": "2021-10-09T05:28:40.549285Z",
     "iopub.status.busy": "2021-10-09T05:28:40.546788Z",
     "iopub.status.idle": "2021-10-09T05:28:40.694689Z",
     "shell.execute_reply": "2021-10-09T05:28:40.694017Z",
     "shell.execute_reply.started": "2021-10-09T04:58:42.730600Z"
    },
    "papermill": {
     "duration": 0.18351,
     "end_time": "2021-10-09T05:28:40.694862",
     "exception": false,
     "start_time": "2021-10-09T05:28:40.511352",
     "status": "completed"
    },
    "tags": []
   },
   "outputs": [],
   "source": [
    "for x,y in calendar.iterrows():\n",
    "    if((pd.isnull(calendar[\"event_name_1\"][x])) == False):\n",
    "           daysBeforeEvent[0][x-1] = 1 "
   ]
  },
  {
   "cell_type": "code",
   "execution_count": 11,
   "id": "3f5799bd",
   "metadata": {
    "execution": {
     "iopub.execute_input": "2021-10-09T05:28:40.755027Z",
     "iopub.status.busy": "2021-10-09T05:28:40.754085Z",
     "iopub.status.idle": "2021-10-09T05:28:40.773349Z",
     "shell.execute_reply": "2021-10-09T05:28:40.774053Z",
     "shell.execute_reply.started": "2021-10-09T04:58:42.870048Z"
    },
    "papermill": {
     "duration": 0.05042,
     "end_time": "2021-10-09T05:28:40.774324",
     "exception": false,
     "start_time": "2021-10-09T05:28:40.723904",
     "status": "completed"
    },
    "tags": []
   },
   "outputs": [
    {
     "data": {
      "text/html": [
       "<div>\n",
       "<style scoped>\n",
       "    .dataframe tbody tr th:only-of-type {\n",
       "        vertical-align: middle;\n",
       "    }\n",
       "\n",
       "    .dataframe tbody tr th {\n",
       "        vertical-align: top;\n",
       "    }\n",
       "\n",
       "    .dataframe thead th {\n",
       "        text-align: right;\n",
       "    }\n",
       "</style>\n",
       "<table border=\"1\" class=\"dataframe\">\n",
       "  <thead>\n",
       "    <tr style=\"text-align: right;\">\n",
       "      <th></th>\n",
       "      <th>date</th>\n",
       "      <th>wm_yr_wk</th>\n",
       "      <th>weekday</th>\n",
       "      <th>wday</th>\n",
       "      <th>month</th>\n",
       "      <th>year</th>\n",
       "      <th>d</th>\n",
       "      <th>event_name_1</th>\n",
       "      <th>event_type_1</th>\n",
       "      <th>event_name_2</th>\n",
       "      <th>event_type_2</th>\n",
       "      <th>snap_CA</th>\n",
       "      <th>snap_TX</th>\n",
       "      <th>snap_WI</th>\n",
       "    </tr>\n",
       "  </thead>\n",
       "  <tbody>\n",
       "    <tr>\n",
       "      <th>0</th>\n",
       "      <td>2011-01-29</td>\n",
       "      <td>11101</td>\n",
       "      <td>Saturday</td>\n",
       "      <td>1</td>\n",
       "      <td>1</td>\n",
       "      <td>2011</td>\n",
       "      <td>d_1</td>\n",
       "      <td>NaN</td>\n",
       "      <td>NaN</td>\n",
       "      <td>NaN</td>\n",
       "      <td>NaN</td>\n",
       "      <td>0</td>\n",
       "      <td>0</td>\n",
       "      <td>0</td>\n",
       "    </tr>\n",
       "    <tr>\n",
       "      <th>1</th>\n",
       "      <td>2011-01-30</td>\n",
       "      <td>11101</td>\n",
       "      <td>Sunday</td>\n",
       "      <td>2</td>\n",
       "      <td>1</td>\n",
       "      <td>2011</td>\n",
       "      <td>d_2</td>\n",
       "      <td>NaN</td>\n",
       "      <td>NaN</td>\n",
       "      <td>NaN</td>\n",
       "      <td>NaN</td>\n",
       "      <td>0</td>\n",
       "      <td>0</td>\n",
       "      <td>0</td>\n",
       "    </tr>\n",
       "    <tr>\n",
       "      <th>2</th>\n",
       "      <td>2011-01-31</td>\n",
       "      <td>11101</td>\n",
       "      <td>Monday</td>\n",
       "      <td>3</td>\n",
       "      <td>1</td>\n",
       "      <td>2011</td>\n",
       "      <td>d_3</td>\n",
       "      <td>NaN</td>\n",
       "      <td>NaN</td>\n",
       "      <td>NaN</td>\n",
       "      <td>NaN</td>\n",
       "      <td>0</td>\n",
       "      <td>0</td>\n",
       "      <td>0</td>\n",
       "    </tr>\n",
       "    <tr>\n",
       "      <th>3</th>\n",
       "      <td>2011-02-01</td>\n",
       "      <td>11101</td>\n",
       "      <td>Tuesday</td>\n",
       "      <td>4</td>\n",
       "      <td>2</td>\n",
       "      <td>2011</td>\n",
       "      <td>d_4</td>\n",
       "      <td>NaN</td>\n",
       "      <td>NaN</td>\n",
       "      <td>NaN</td>\n",
       "      <td>NaN</td>\n",
       "      <td>1</td>\n",
       "      <td>1</td>\n",
       "      <td>0</td>\n",
       "    </tr>\n",
       "    <tr>\n",
       "      <th>4</th>\n",
       "      <td>2011-02-02</td>\n",
       "      <td>11101</td>\n",
       "      <td>Wednesday</td>\n",
       "      <td>5</td>\n",
       "      <td>2</td>\n",
       "      <td>2011</td>\n",
       "      <td>d_5</td>\n",
       "      <td>NaN</td>\n",
       "      <td>NaN</td>\n",
       "      <td>NaN</td>\n",
       "      <td>NaN</td>\n",
       "      <td>1</td>\n",
       "      <td>0</td>\n",
       "      <td>1</td>\n",
       "    </tr>\n",
       "    <tr>\n",
       "      <th>...</th>\n",
       "      <td>...</td>\n",
       "      <td>...</td>\n",
       "      <td>...</td>\n",
       "      <td>...</td>\n",
       "      <td>...</td>\n",
       "      <td>...</td>\n",
       "      <td>...</td>\n",
       "      <td>...</td>\n",
       "      <td>...</td>\n",
       "      <td>...</td>\n",
       "      <td>...</td>\n",
       "      <td>...</td>\n",
       "      <td>...</td>\n",
       "      <td>...</td>\n",
       "    </tr>\n",
       "    <tr>\n",
       "      <th>1964</th>\n",
       "      <td>2016-06-15</td>\n",
       "      <td>11620</td>\n",
       "      <td>Wednesday</td>\n",
       "      <td>5</td>\n",
       "      <td>6</td>\n",
       "      <td>2016</td>\n",
       "      <td>d_1965</td>\n",
       "      <td>NaN</td>\n",
       "      <td>NaN</td>\n",
       "      <td>NaN</td>\n",
       "      <td>NaN</td>\n",
       "      <td>0</td>\n",
       "      <td>1</td>\n",
       "      <td>1</td>\n",
       "    </tr>\n",
       "    <tr>\n",
       "      <th>1965</th>\n",
       "      <td>2016-06-16</td>\n",
       "      <td>11620</td>\n",
       "      <td>Thursday</td>\n",
       "      <td>6</td>\n",
       "      <td>6</td>\n",
       "      <td>2016</td>\n",
       "      <td>d_1966</td>\n",
       "      <td>NaN</td>\n",
       "      <td>NaN</td>\n",
       "      <td>NaN</td>\n",
       "      <td>NaN</td>\n",
       "      <td>0</td>\n",
       "      <td>0</td>\n",
       "      <td>0</td>\n",
       "    </tr>\n",
       "    <tr>\n",
       "      <th>1966</th>\n",
       "      <td>2016-06-17</td>\n",
       "      <td>11620</td>\n",
       "      <td>Friday</td>\n",
       "      <td>7</td>\n",
       "      <td>6</td>\n",
       "      <td>2016</td>\n",
       "      <td>d_1967</td>\n",
       "      <td>NaN</td>\n",
       "      <td>NaN</td>\n",
       "      <td>NaN</td>\n",
       "      <td>NaN</td>\n",
       "      <td>0</td>\n",
       "      <td>0</td>\n",
       "      <td>0</td>\n",
       "    </tr>\n",
       "    <tr>\n",
       "      <th>1967</th>\n",
       "      <td>2016-06-18</td>\n",
       "      <td>11621</td>\n",
       "      <td>Saturday</td>\n",
       "      <td>1</td>\n",
       "      <td>6</td>\n",
       "      <td>2016</td>\n",
       "      <td>d_1968</td>\n",
       "      <td>NaN</td>\n",
       "      <td>NaN</td>\n",
       "      <td>NaN</td>\n",
       "      <td>NaN</td>\n",
       "      <td>0</td>\n",
       "      <td>0</td>\n",
       "      <td>0</td>\n",
       "    </tr>\n",
       "    <tr>\n",
       "      <th>1968</th>\n",
       "      <td>2016-06-19</td>\n",
       "      <td>11621</td>\n",
       "      <td>Sunday</td>\n",
       "      <td>2</td>\n",
       "      <td>6</td>\n",
       "      <td>2016</td>\n",
       "      <td>d_1969</td>\n",
       "      <td>NBAFinalsEnd</td>\n",
       "      <td>Sporting</td>\n",
       "      <td>Father's day</td>\n",
       "      <td>Cultural</td>\n",
       "      <td>0</td>\n",
       "      <td>0</td>\n",
       "      <td>0</td>\n",
       "    </tr>\n",
       "  </tbody>\n",
       "</table>\n",
       "<p>1969 rows × 14 columns</p>\n",
       "</div>"
      ],
      "text/plain": [
       "            date  wm_yr_wk    weekday  wday  month  year       d  \\\n",
       "0     2011-01-29     11101   Saturday     1      1  2011     d_1   \n",
       "1     2011-01-30     11101     Sunday     2      1  2011     d_2   \n",
       "2     2011-01-31     11101     Monday     3      1  2011     d_3   \n",
       "3     2011-02-01     11101    Tuesday     4      2  2011     d_4   \n",
       "4     2011-02-02     11101  Wednesday     5      2  2011     d_5   \n",
       "...          ...       ...        ...   ...    ...   ...     ...   \n",
       "1964  2016-06-15     11620  Wednesday     5      6  2016  d_1965   \n",
       "1965  2016-06-16     11620   Thursday     6      6  2016  d_1966   \n",
       "1966  2016-06-17     11620     Friday     7      6  2016  d_1967   \n",
       "1967  2016-06-18     11621   Saturday     1      6  2016  d_1968   \n",
       "1968  2016-06-19     11621     Sunday     2      6  2016  d_1969   \n",
       "\n",
       "      event_name_1 event_type_1  event_name_2 event_type_2  snap_CA  snap_TX  \\\n",
       "0              NaN          NaN           NaN          NaN        0        0   \n",
       "1              NaN          NaN           NaN          NaN        0        0   \n",
       "2              NaN          NaN           NaN          NaN        0        0   \n",
       "3              NaN          NaN           NaN          NaN        1        1   \n",
       "4              NaN          NaN           NaN          NaN        1        0   \n",
       "...            ...          ...           ...          ...      ...      ...   \n",
       "1964           NaN          NaN           NaN          NaN        0        1   \n",
       "1965           NaN          NaN           NaN          NaN        0        0   \n",
       "1966           NaN          NaN           NaN          NaN        0        0   \n",
       "1967           NaN          NaN           NaN          NaN        0        0   \n",
       "1968  NBAFinalsEnd     Sporting  Father's day     Cultural        0        0   \n",
       "\n",
       "      snap_WI  \n",
       "0           0  \n",
       "1           0  \n",
       "2           0  \n",
       "3           0  \n",
       "4           1  \n",
       "...       ...  \n",
       "1964        1  \n",
       "1965        0  \n",
       "1966        0  \n",
       "1967        0  \n",
       "1968        0  \n",
       "\n",
       "[1969 rows x 14 columns]"
      ]
     },
     "execution_count": 11,
     "metadata": {},
     "output_type": "execute_result"
    }
   ],
   "source": [
    "calendar"
   ]
  },
  {
   "cell_type": "code",
   "execution_count": 12,
   "id": "84276031",
   "metadata": {
    "execution": {
     "iopub.execute_input": "2021-10-09T05:28:40.840862Z",
     "iopub.status.busy": "2021-10-09T05:28:40.839802Z",
     "iopub.status.idle": "2021-10-09T05:28:40.845690Z",
     "shell.execute_reply": "2021-10-09T05:28:40.846329Z",
     "shell.execute_reply.started": "2021-10-09T04:58:42.898511Z"
    },
    "papermill": {
     "duration": 0.037187,
     "end_time": "2021-10-09T05:28:40.846532",
     "exception": false,
     "start_time": "2021-10-09T05:28:40.809345",
     "status": "completed"
    },
    "tags": []
   },
   "outputs": [],
   "source": [
    "snap_CA=pd.DataFrame(np.zeros((1969,1)))\n",
    "snap_TX=pd.DataFrame(np.zeros((1969,1)))\n",
    "snap_WI=pd.DataFrame(np.zeros((1969,1)))"
   ]
  },
  {
   "cell_type": "code",
   "execution_count": 13,
   "id": "432e5356",
   "metadata": {
    "execution": {
     "iopub.execute_input": "2021-10-09T05:28:40.905217Z",
     "iopub.status.busy": "2021-10-09T05:28:40.904352Z",
     "iopub.status.idle": "2021-10-09T05:28:41.063749Z",
     "shell.execute_reply": "2021-10-09T05:28:41.062598Z",
     "shell.execute_reply.started": "2021-10-09T04:58:42.908470Z"
    },
    "papermill": {
     "duration": 0.190288,
     "end_time": "2021-10-09T05:28:41.063954",
     "exception": false,
     "start_time": "2021-10-09T05:28:40.873666",
     "status": "completed"
    },
    "tags": []
   },
   "outputs": [],
   "source": [
    "for x,y in calendar.iterrows():\n",
    "    if(((calendar[\"snap_CA\"][x])) == 1):\n",
    "           snap_CA[0][x-1] = 1 "
   ]
  },
  {
   "cell_type": "code",
   "execution_count": 14,
   "id": "5299269f",
   "metadata": {
    "execution": {
     "iopub.execute_input": "2021-10-09T05:28:41.127751Z",
     "iopub.status.busy": "2021-10-09T05:28:41.126637Z",
     "iopub.status.idle": "2021-10-09T05:28:41.282469Z",
     "shell.execute_reply": "2021-10-09T05:28:41.281859Z",
     "shell.execute_reply.started": "2021-10-09T04:58:43.084243Z"
    },
    "papermill": {
     "duration": 0.191855,
     "end_time": "2021-10-09T05:28:41.282638",
     "exception": false,
     "start_time": "2021-10-09T05:28:41.090783",
     "status": "completed"
    },
    "tags": []
   },
   "outputs": [],
   "source": [
    "for x,y in calendar.iterrows():\n",
    "    if(((calendar[\"snap_WI\"][x])) == 1):\n",
    "           snap_WI[0][x-1] = 1 "
   ]
  },
  {
   "cell_type": "code",
   "execution_count": 15,
   "id": "eef80f32",
   "metadata": {
    "execution": {
     "iopub.execute_input": "2021-10-09T05:28:41.349914Z",
     "iopub.status.busy": "2021-10-09T05:28:41.348659Z",
     "iopub.status.idle": "2021-10-09T05:28:41.500068Z",
     "shell.execute_reply": "2021-10-09T05:28:41.500601Z",
     "shell.execute_reply.started": "2021-10-09T04:58:43.250940Z"
    },
    "papermill": {
     "duration": 0.191132,
     "end_time": "2021-10-09T05:28:41.500838",
     "exception": false,
     "start_time": "2021-10-09T05:28:41.309706",
     "status": "completed"
    },
    "tags": []
   },
   "outputs": [],
   "source": [
    "for x,y in calendar.iterrows():\n",
    "    if(((calendar[\"snap_TX\"][x])) == 1):\n",
    "           snap_TX[0][x-1] = 1 "
   ]
  },
  {
   "cell_type": "code",
   "execution_count": 16,
   "id": "618faa5e",
   "metadata": {
    "execution": {
     "iopub.execute_input": "2021-10-09T05:28:41.563872Z",
     "iopub.status.busy": "2021-10-09T05:28:41.561950Z",
     "iopub.status.idle": "2021-10-09T05:28:41.567130Z",
     "shell.execute_reply": "2021-10-09T05:28:41.567629Z",
     "shell.execute_reply.started": "2021-10-09T04:58:43.417198Z"
    },
    "papermill": {
     "duration": 0.037598,
     "end_time": "2021-10-09T05:28:41.567838",
     "exception": false,
     "start_time": "2021-10-09T05:28:41.530240",
     "status": "completed"
    },
    "tags": []
   },
   "outputs": [],
   "source": [
    "#\"calendar\" won't be used anymore. \n",
    "del calendar"
   ]
  },
  {
   "cell_type": "code",
   "execution_count": 17,
   "id": "94b62d5e",
   "metadata": {
    "execution": {
     "iopub.execute_input": "2021-10-09T05:28:41.625735Z",
     "iopub.status.busy": "2021-10-09T05:28:41.625106Z",
     "iopub.status.idle": "2021-10-09T05:28:41.627722Z",
     "shell.execute_reply": "2021-10-09T05:28:41.627219Z",
     "shell.execute_reply.started": "2021-10-09T04:58:43.423326Z"
    },
    "papermill": {
     "duration": 0.033455,
     "end_time": "2021-10-09T05:28:41.627861",
     "exception": false,
     "start_time": "2021-10-09T05:28:41.594406",
     "status": "completed"
    },
    "tags": []
   },
   "outputs": [],
   "source": [
    "snap_CA_test = snap_CA[1941:1969]\n",
    "#\"daysBeforeEvent\" will be used for training as a feature.\n",
    "snap_CA = snap_CA[startDay:1941]"
   ]
  },
  {
   "cell_type": "code",
   "execution_count": 18,
   "id": "654032eb",
   "metadata": {
    "execution": {
     "iopub.execute_input": "2021-10-09T05:28:41.687975Z",
     "iopub.status.busy": "2021-10-09T05:28:41.687320Z",
     "iopub.status.idle": "2021-10-09T05:28:41.690186Z",
     "shell.execute_reply": "2021-10-09T05:28:41.689664Z",
     "shell.execute_reply.started": "2021-10-09T04:58:43.435884Z"
    },
    "papermill": {
     "duration": 0.035361,
     "end_time": "2021-10-09T05:28:41.690331",
     "exception": false,
     "start_time": "2021-10-09T05:28:41.654970",
     "status": "completed"
    },
    "tags": []
   },
   "outputs": [],
   "source": [
    "snap_WI_test = snap_WI[1941:1969]\n",
    "#\"daysBeforeEvent\" will be used for training as a feature.\n",
    "snap_WI = snap_WI[startDay:1941]"
   ]
  },
  {
   "cell_type": "code",
   "execution_count": 19,
   "id": "a344cd7f",
   "metadata": {
    "execution": {
     "iopub.execute_input": "2021-10-09T05:28:41.748654Z",
     "iopub.status.busy": "2021-10-09T05:28:41.748019Z",
     "iopub.status.idle": "2021-10-09T05:28:41.751851Z",
     "shell.execute_reply": "2021-10-09T05:28:41.751318Z",
     "shell.execute_reply.started": "2021-10-09T04:58:43.449301Z"
    },
    "papermill": {
     "duration": 0.035896,
     "end_time": "2021-10-09T05:28:41.751995",
     "exception": false,
     "start_time": "2021-10-09T05:28:41.716099",
     "status": "completed"
    },
    "tags": []
   },
   "outputs": [],
   "source": [
    "snap_TX_test = snap_TX[1941:1969]\n",
    "#\"daysBeforeEvent\" will be used for training as a feature.\n",
    "snap_TX = snap_TX[startDay:1941]"
   ]
  },
  {
   "cell_type": "code",
   "execution_count": 20,
   "id": "0fb8802e",
   "metadata": {
    "execution": {
     "iopub.execute_input": "2021-10-09T05:28:41.810297Z",
     "iopub.status.busy": "2021-10-09T05:28:41.809670Z",
     "iopub.status.idle": "2021-10-09T05:28:41.812101Z",
     "shell.execute_reply": "2021-10-09T05:28:41.811517Z",
     "shell.execute_reply.started": "2021-10-09T04:58:43.462490Z"
    },
    "papermill": {
     "duration": 0.033906,
     "end_time": "2021-10-09T05:28:41.812263",
     "exception": false,
     "start_time": "2021-10-09T05:28:41.778357",
     "status": "completed"
    },
    "tags": []
   },
   "outputs": [],
   "source": [
    "daysBeforeEventTest = daysBeforeEvent[1941:1969]\n",
    "#\"daysBeforeEvent\" will be used for training as a feature.\n",
    "daysBeforeEvent = daysBeforeEvent[startDay:1941]"
   ]
  },
  {
   "cell_type": "code",
   "execution_count": 21,
   "id": "69114fac",
   "metadata": {
    "execution": {
     "iopub.execute_input": "2021-10-09T05:28:41.871234Z",
     "iopub.status.busy": "2021-10-09T05:28:41.870463Z",
     "iopub.status.idle": "2021-10-09T05:28:41.873544Z",
     "shell.execute_reply": "2021-10-09T05:28:41.873984Z",
     "shell.execute_reply.started": "2021-10-09T04:58:54.395853Z"
    },
    "papermill": {
     "duration": 0.035939,
     "end_time": "2021-10-09T05:28:41.874193",
     "exception": false,
     "start_time": "2021-10-09T05:28:41.838254",
     "status": "completed"
    },
    "tags": []
   },
   "outputs": [],
   "source": [
    "daysBeforeEvent.columns = [\"oneDayBeforeEvent\"]\n",
    "daysBeforeEvent.index = dt.index"
   ]
  },
  {
   "cell_type": "code",
   "execution_count": 22,
   "id": "3c8af0ab",
   "metadata": {
    "execution": {
     "iopub.execute_input": "2021-10-09T05:28:41.930605Z",
     "iopub.status.busy": "2021-10-09T05:28:41.929796Z",
     "iopub.status.idle": "2021-10-09T05:28:41.932725Z",
     "shell.execute_reply": "2021-10-09T05:28:41.933119Z",
     "shell.execute_reply.started": "2021-10-09T04:59:00.075834Z"
    },
    "papermill": {
     "duration": 0.033486,
     "end_time": "2021-10-09T05:28:41.933313",
     "exception": false,
     "start_time": "2021-10-09T05:28:41.899827",
     "status": "completed"
    },
    "tags": []
   },
   "outputs": [],
   "source": [
    "snap_CA.columns = [\"snap_CA\"]\n",
    "snap_CA.index = dt.index"
   ]
  },
  {
   "cell_type": "code",
   "execution_count": 23,
   "id": "939316c0",
   "metadata": {
    "execution": {
     "iopub.execute_input": "2021-10-09T05:28:41.990040Z",
     "iopub.status.busy": "2021-10-09T05:28:41.989456Z",
     "iopub.status.idle": "2021-10-09T05:28:41.992473Z",
     "shell.execute_reply": "2021-10-09T05:28:41.991944Z",
     "shell.execute_reply.started": "2021-10-09T04:59:00.500665Z"
    },
    "papermill": {
     "duration": 0.033374,
     "end_time": "2021-10-09T05:28:41.992611",
     "exception": false,
     "start_time": "2021-10-09T05:28:41.959237",
     "status": "completed"
    },
    "tags": []
   },
   "outputs": [],
   "source": [
    "snap_WI.columns = [\"snap_WI\"]\n",
    "snap_WI.index = dt.index"
   ]
  },
  {
   "cell_type": "code",
   "execution_count": 24,
   "id": "ba890616",
   "metadata": {
    "execution": {
     "iopub.execute_input": "2021-10-09T05:28:42.049295Z",
     "iopub.status.busy": "2021-10-09T05:28:42.048053Z",
     "iopub.status.idle": "2021-10-09T05:28:42.051726Z",
     "shell.execute_reply": "2021-10-09T05:28:42.051056Z",
     "shell.execute_reply.started": "2021-10-09T04:59:06.459311Z"
    },
    "papermill": {
     "duration": 0.034601,
     "end_time": "2021-10-09T05:28:42.051886",
     "exception": false,
     "start_time": "2021-10-09T05:28:42.017285",
     "status": "completed"
    },
    "tags": []
   },
   "outputs": [],
   "source": [
    "snap_TX.columns = [\"snap_TX\"]\n",
    "snap_TX.index = dt.index"
   ]
  },
  {
   "cell_type": "code",
   "execution_count": 25,
   "id": "f72eee34",
   "metadata": {
    "execution": {
     "iopub.execute_input": "2021-10-09T05:28:42.116656Z",
     "iopub.status.busy": "2021-10-09T05:28:42.115917Z",
     "iopub.status.idle": "2021-10-09T05:28:42.707556Z",
     "shell.execute_reply": "2021-10-09T05:28:42.707978Z",
     "shell.execute_reply.started": "2021-10-09T04:59:37.339861Z"
    },
    "papermill": {
     "duration": 0.628126,
     "end_time": "2021-10-09T05:28:42.708219",
     "exception": false,
     "start_time": "2021-10-09T05:28:42.080093",
     "status": "completed"
    },
    "tags": []
   },
   "outputs": [
    {
     "data": {
      "text/plain": [
       "Index([                  0,                   1,                   2,\n",
       "                         3,                   4,                   5,\n",
       "                         6,                   7,                   8,\n",
       "                         9,\n",
       "       ...\n",
       "                     30484,               30485,               30486,\n",
       "                     30487,               30488,               30489,\n",
       "       'oneDayBeforeEvent',           'snap_CA',           'snap_WI',\n",
       "                 'snap_TX'],\n",
       "      dtype='object', length=30494)"
      ]
     },
     "execution_count": 25,
     "metadata": {},
     "output_type": "execute_result"
    }
   ],
   "source": [
    "dt = pd.concat([dt, daysBeforeEvent,snap_CA,snap_WI,snap_TX], axis = 1)\n",
    "\n",
    "\n",
    "dt.columns"
   ]
  },
  {
   "cell_type": "code",
   "execution_count": 26,
   "id": "eed7742f",
   "metadata": {
    "execution": {
     "iopub.execute_input": "2021-10-09T05:28:42.765674Z",
     "iopub.status.busy": "2021-10-09T05:28:42.764953Z",
     "iopub.status.idle": "2021-10-09T05:28:50.658346Z",
     "shell.execute_reply": "2021-10-09T05:28:50.657830Z",
     "shell.execute_reply.started": "2021-10-09T04:59:44.185111Z"
    },
    "papermill": {
     "duration": 7.924335,
     "end_time": "2021-10-09T05:28:50.658501",
     "exception": false,
     "start_time": "2021-10-09T05:28:42.734166",
     "status": "completed"
    },
    "tags": []
   },
   "outputs": [],
   "source": [
    "from sklearn.preprocessing import MinMaxScaler\n",
    "sc = MinMaxScaler(feature_range = (0, 1))\n",
    "dt_scaled = sc.fit_transform(dt)"
   ]
  },
  {
   "cell_type": "code",
   "execution_count": 27,
   "id": "4707ab06",
   "metadata": {
    "execution": {
     "iopub.execute_input": "2021-10-09T05:28:50.717575Z",
     "iopub.status.busy": "2021-10-09T05:28:50.716747Z",
     "iopub.status.idle": "2021-10-09T05:28:50.720272Z",
     "shell.execute_reply": "2021-10-09T05:28:50.719774Z",
     "shell.execute_reply.started": "2021-10-09T05:00:19.930780Z"
    },
    "papermill": {
     "duration": 0.036239,
     "end_time": "2021-10-09T05:28:50.720578",
     "exception": false,
     "start_time": "2021-10-09T05:28:50.684339",
     "status": "completed"
    },
    "tags": []
   },
   "outputs": [],
   "source": [
    "X_train = []\n",
    "y_train = []\n",
    "for i in range(timesteps, 1941 - startDay):\n",
    "    X_train.append(dt_scaled[i-timesteps:i])\n",
    "    y_train.append(dt_scaled[i][0:30490])"
   ]
  },
  {
   "cell_type": "code",
   "execution_count": 28,
   "id": "22330807",
   "metadata": {
    "execution": {
     "iopub.execute_input": "2021-10-09T05:28:50.776353Z",
     "iopub.status.busy": "2021-10-09T05:28:50.775689Z",
     "iopub.status.idle": "2021-10-09T05:28:50.777558Z",
     "shell.execute_reply": "2021-10-09T05:28:50.777974Z",
     "shell.execute_reply.started": "2021-10-09T05:00:39.149033Z"
    },
    "papermill": {
     "duration": 0.031899,
     "end_time": "2021-10-09T05:28:50.778189",
     "exception": false,
     "start_time": "2021-10-09T05:28:50.746290",
     "status": "completed"
    },
    "tags": []
   },
   "outputs": [],
   "source": [
    "del dt_scaled"
   ]
  },
  {
   "cell_type": "code",
   "execution_count": 29,
   "id": "eb05165c",
   "metadata": {
    "execution": {
     "iopub.execute_input": "2021-10-09T05:28:50.833098Z",
     "iopub.status.busy": "2021-10-09T05:28:50.832513Z",
     "iopub.status.idle": "2021-10-09T05:28:56.370346Z",
     "shell.execute_reply": "2021-10-09T05:28:56.370836Z",
     "shell.execute_reply.started": "2021-10-09T05:00:24.619570Z"
    },
    "papermill": {
     "duration": 5.567293,
     "end_time": "2021-10-09T05:28:56.371054",
     "exception": false,
     "start_time": "2021-10-09T05:28:50.803761",
     "status": "completed"
    },
    "tags": []
   },
   "outputs": [
    {
     "name": "stdout",
     "output_type": "stream",
     "text": [
      "(1577, 14, 30494)\n",
      "(1577, 30490)\n"
     ]
    }
   ],
   "source": [
    "X_train = np.array(X_train)\n",
    "y_train = np.array(y_train)\n",
    "print(X_train.shape)\n",
    "print(y_train.shape)"
   ]
  },
  {
   "cell_type": "code",
   "execution_count": 30,
   "id": "b4374bf7",
   "metadata": {
    "execution": {
     "iopub.execute_input": "2021-10-09T05:28:56.432867Z",
     "iopub.status.busy": "2021-10-09T05:28:56.432174Z",
     "iopub.status.idle": "2021-10-09T05:29:01.708809Z",
     "shell.execute_reply": "2021-10-09T05:29:01.708213Z",
     "shell.execute_reply.started": "2021-10-09T05:00:41.892300Z"
    },
    "papermill": {
     "duration": 5.308687,
     "end_time": "2021-10-09T05:29:01.708968",
     "exception": false,
     "start_time": "2021-10-09T05:28:56.400281",
     "status": "completed"
    },
    "tags": []
   },
   "outputs": [
    {
     "name": "stderr",
     "output_type": "stream",
     "text": [
      "2021-10-09 05:28:57.136779: W tensorflow/stream_executor/platform/default/dso_loader.cc:60] Could not load dynamic library 'libcudart.so.11.0'; dlerror: libcudart.so.11.0: cannot open shared object file: No such file or directory; LD_LIBRARY_PATH: /opt/conda/lib\n",
      "2021-10-09 05:28:57.136942: I tensorflow/stream_executor/cuda/cudart_stub.cc:29] Ignore above cudart dlerror if you do not have a GPU set up on your machine.\n"
     ]
    }
   ],
   "source": [
    "import tensorflow as tf"
   ]
  },
  {
   "cell_type": "code",
   "execution_count": 31,
   "id": "c3ce320d",
   "metadata": {
    "execution": {
     "iopub.execute_input": "2021-10-09T05:29:01.768074Z",
     "iopub.status.busy": "2021-10-09T05:29:01.767405Z",
     "iopub.status.idle": "2021-10-09T05:29:01.769476Z",
     "shell.execute_reply": "2021-10-09T05:29:01.769900Z",
     "shell.execute_reply.started": "2021-10-09T05:00:47.536236Z"
    },
    "papermill": {
     "duration": 0.034754,
     "end_time": "2021-10-09T05:29:01.770102",
     "exception": false,
     "start_time": "2021-10-09T05:29:01.735348",
     "status": "completed"
    },
    "tags": []
   },
   "outputs": [],
   "source": [
    "from tensorflow.keras.models import Sequential\n",
    "from tensorflow.keras.layers import Dense\n",
    "from tensorflow.keras.layers import LSTM\n",
    "from tensorflow.keras.layers import Dropout\n"
   ]
  },
  {
   "cell_type": "code",
   "execution_count": 32,
   "id": "f1781960",
   "metadata": {
    "execution": {
     "iopub.execute_input": "2021-10-09T05:29:01.832058Z",
     "iopub.status.busy": "2021-10-09T05:29:01.831406Z",
     "iopub.status.idle": "2021-10-09T05:40:25.183451Z",
     "shell.execute_reply": "2021-10-09T05:40:25.182783Z",
     "shell.execute_reply.started": "2021-10-09T05:00:52.837704Z"
    },
    "papermill": {
     "duration": 683.38427,
     "end_time": "2021-10-09T05:40:25.183630",
     "exception": false,
     "start_time": "2021-10-09T05:29:01.799360",
     "status": "completed"
    },
    "tags": []
   },
   "outputs": [
    {
     "name": "stderr",
     "output_type": "stream",
     "text": [
      "2021-10-09 05:29:01.849290: I tensorflow/compiler/jit/xla_cpu_device.cc:41] Not creating XLA devices, tf_xla_enable_xla_devices not set\n",
      "2021-10-09 05:29:01.853304: W tensorflow/stream_executor/platform/default/dso_loader.cc:60] Could not load dynamic library 'libcuda.so.1'; dlerror: libcuda.so.1: cannot open shared object file: No such file or directory; LD_LIBRARY_PATH: /opt/conda/lib\n",
      "2021-10-09 05:29:01.853348: W tensorflow/stream_executor/cuda/cuda_driver.cc:326] failed call to cuInit: UNKNOWN ERROR (303)\n",
      "2021-10-09 05:29:01.853375: I tensorflow/stream_executor/cuda/cuda_diagnostics.cc:156] kernel driver does not appear to be running on this host (61d17ee881bc): /proc/driver/nvidia/version does not exist\n",
      "2021-10-09 05:29:01.854485: I tensorflow/core/platform/cpu_feature_guard.cc:142] This TensorFlow binary is optimized with oneAPI Deep Neural Network Library (oneDNN) to use the following CPU instructions in performance-critical operations:  AVX2 FMA\n",
      "To enable them in other operations, rebuild TensorFlow with the appropriate compiler flags.\n",
      "2021-10-09 05:29:01.854974: I tensorflow/compiler/jit/xla_gpu_device.cc:99] Not creating XLA devices, tf_xla_enable_xla_devices not set\n",
      "2021-10-09 05:29:04.355533: W tensorflow/core/framework/cpu_allocator_impl.cc:80] Allocation of 2692986128 exceeds 10% of free system memory.\n",
      "2021-10-09 05:29:07.359643: I tensorflow/compiler/mlir/mlir_graph_optimization_pass.cc:116] None of the MLIR optimization passes are enabled (registered 2)\n",
      "2021-10-09 05:29:07.371576: I tensorflow/core/platform/profile_utils/cpu_utils.cc:112] CPU Frequency: 2200155000 Hz\n"
     ]
    },
    {
     "name": "stdout",
     "output_type": "stream",
     "text": [
      "Epoch 1/32\n",
      "36/36 [==============================] - 27s 609ms/step - loss: 0.0199\n",
      "Epoch 2/32\n",
      "36/36 [==============================] - 21s 581ms/step - loss: 0.0160\n",
      "Epoch 3/32\n",
      "36/36 [==============================] - 21s 576ms/step - loss: 0.0153\n",
      "Epoch 4/32\n",
      "36/36 [==============================] - 21s 586ms/step - loss: 0.0150\n",
      "Epoch 5/32\n",
      "36/36 [==============================] - 21s 584ms/step - loss: 0.0148\n",
      "Epoch 6/32\n",
      "36/36 [==============================] - 21s 577ms/step - loss: 0.0146\n",
      "Epoch 7/32\n",
      "36/36 [==============================] - 21s 585ms/step - loss: 0.0144\n",
      "Epoch 8/32\n",
      "36/36 [==============================] - 21s 577ms/step - loss: 0.0141\n",
      "Epoch 9/32\n",
      "36/36 [==============================] - 21s 576ms/step - loss: 0.0141\n",
      "Epoch 10/32\n",
      "36/36 [==============================] - 21s 593ms/step - loss: 0.0140\n",
      "Epoch 11/32\n",
      "36/36 [==============================] - 21s 580ms/step - loss: 0.0139\n",
      "Epoch 12/32\n",
      "36/36 [==============================] - 21s 573ms/step - loss: 0.0139\n",
      "Epoch 13/32\n",
      "36/36 [==============================] - 21s 586ms/step - loss: 0.0137\n",
      "Epoch 14/32\n",
      "36/36 [==============================] - 21s 575ms/step - loss: 0.0134\n",
      "Epoch 15/32\n",
      "36/36 [==============================] - 21s 583ms/step - loss: 0.0135\n",
      "Epoch 16/32\n",
      "36/36 [==============================] - 21s 585ms/step - loss: 0.0133\n",
      "Epoch 17/32\n",
      "36/36 [==============================] - 21s 580ms/step - loss: 0.0133\n",
      "Epoch 18/32\n",
      "36/36 [==============================] - 21s 590ms/step - loss: 0.0133\n",
      "Epoch 19/32\n",
      "36/36 [==============================] - 21s 588ms/step - loss: 0.0132\n",
      "Epoch 20/32\n",
      "36/36 [==============================] - 21s 581ms/step - loss: 0.0131\n",
      "Epoch 21/32\n",
      "36/36 [==============================] - 21s 587ms/step - loss: 0.0129\n",
      "Epoch 22/32\n",
      "36/36 [==============================] - 21s 591ms/step - loss: 0.0131\n",
      "Epoch 23/32\n",
      "36/36 [==============================] - 21s 582ms/step - loss: 0.0132\n",
      "Epoch 24/32\n",
      "36/36 [==============================] - 21s 591ms/step - loss: 0.0129\n",
      "Epoch 25/32\n",
      "36/36 [==============================] - 21s 578ms/step - loss: 0.0129\n",
      "Epoch 26/32\n",
      "36/36 [==============================] - 21s 592ms/step - loss: 0.0129\n",
      "Epoch 27/32\n",
      "36/36 [==============================] - 21s 585ms/step - loss: 0.0128\n",
      "Epoch 28/32\n",
      "36/36 [==============================] - 21s 584ms/step - loss: 0.0128\n",
      "Epoch 29/32\n",
      "36/36 [==============================] - 21s 586ms/step - loss: 0.0128\n",
      "Epoch 30/32\n",
      "36/36 [==============================] - 21s 584ms/step - loss: 0.0128\n",
      "Epoch 31/32\n",
      "36/36 [==============================] - 21s 576ms/step - loss: 0.0126\n",
      "Epoch 32/32\n",
      "36/36 [==============================] - 21s 590ms/step - loss: 0.0126\n"
     ]
    },
    {
     "data": {
      "text/plain": [
       "<tensorflow.python.keras.callbacks.History at 0x7f59e2a861d0>"
      ]
     },
     "execution_count": 32,
     "metadata": {},
     "output_type": "execute_result"
    }
   ],
   "source": [
    "regressor = Sequential()\n",
    "\n",
    "# Adding the first LSTM layer and some Dropout regularisation\n",
    "layer_1_units=50\n",
    "regressor.add(LSTM(units = layer_1_units, return_sequences = True, input_shape = (X_train.shape[1], X_train.shape[2])))\n",
    "regressor.add(Dropout(0.2))\n",
    "\n",
    "# Adding a third LSTM layer and some Dropout regularisation\n",
    "layer_3_units=400\n",
    "regressor.add(LSTM(units = layer_3_units, return_sequences = True))\n",
    "regressor.add(Dropout(0.2))\n",
    "\n",
    "# Adding a third LSTM layer and some Dropout regularisation\n",
    "layer_3_units=400\n",
    "regressor.add(LSTM(units = layer_3_units))\n",
    "regressor.add(Dropout(0.2))\n",
    "\n",
    "# Adding the output layer\n",
    "regressor.add(Dense(units = 30490))\n",
    "\n",
    "# Compiling the RNN\n",
    "regressor.compile(optimizer = 'adam', loss = 'mean_squared_error')\n",
    "\n",
    "# Fitting the RNN to the Training set\n",
    "epoch_no=32\n",
    "batch_size_RNN=44\n",
    "regressor.fit(X_train, y_train, epochs = epoch_no, batch_size = batch_size_RNN)"
   ]
  },
  {
   "cell_type": "code",
   "execution_count": 33,
   "id": "03b07da9",
   "metadata": {
    "execution": {
     "iopub.execute_input": "2021-10-09T05:40:25.786753Z",
     "iopub.status.busy": "2021-10-09T05:40:25.785817Z",
     "iopub.status.idle": "2021-10-09T05:40:25.931197Z",
     "shell.execute_reply": "2021-10-09T05:40:25.930574Z",
     "shell.execute_reply.started": "2021-10-09T05:11:20.669157Z"
    },
    "papermill": {
     "duration": 0.446748,
     "end_time": "2021-10-09T05:40:25.931336",
     "exception": false,
     "start_time": "2021-10-09T05:40:25.484588",
     "status": "completed"
    },
    "tags": []
   },
   "outputs": [],
   "source": [
    "inputs= dt[-timesteps:]\n",
    "inputs = sc.transform(inputs)"
   ]
  },
  {
   "cell_type": "code",
   "execution_count": 34,
   "id": "44831e79",
   "metadata": {
    "execution": {
     "iopub.execute_input": "2021-10-09T05:40:26.537266Z",
     "iopub.status.busy": "2021-10-09T05:40:26.536325Z",
     "iopub.status.idle": "2021-10-09T05:40:29.630433Z",
     "shell.execute_reply": "2021-10-09T05:40:29.629917Z",
     "shell.execute_reply.started": "2021-10-09T05:19:40.579639Z"
    },
    "papermill": {
     "duration": 3.401646,
     "end_time": "2021-10-09T05:40:29.630582",
     "exception": false,
     "start_time": "2021-10-09T05:40:26.228936",
     "status": "completed"
    },
    "tags": []
   },
   "outputs": [
    {
     "name": "stdout",
     "output_type": "stream",
     "text": [
      "(1, 14, 30494)\n"
     ]
    }
   ],
   "source": [
    "X_test = []\n",
    "X_test.append(inputs[0:timesteps])\n",
    "X_test = np.array(X_test)\n",
    "predictions = []\n",
    "print(X_test.shape)\n",
    "\n",
    "for j in range(timesteps,timesteps + 28):\n",
    "#X_test = np.reshape(X_test, (X_test.shape[0], X_test.shape[1], 1))\n",
    "    predicted_stock_price = regressor.predict(X_test[0,j - timesteps:j].reshape(1, timesteps, 30494))\n",
    "    testInput = np.column_stack((np.array(predicted_stock_price),daysBeforeEventTest[0][1941 + j - timesteps], snap_CA_test[0][1941 + j - timesteps],snap_WI_test[0][1941 + j - timesteps],snap_TX_test[0][1941 + j - timesteps]))\n",
    "    X_test = np.append(X_test, testInput).reshape(1,j+1 ,30494)\n",
    "    predicted_stock_price = sc.inverse_transform(testInput)[:,0:30490]\n",
    "    predictions.append(predicted_stock_price)\n"
   ]
  },
  {
   "cell_type": "code",
   "execution_count": 35,
   "id": "4d87ee97",
   "metadata": {
    "execution": {
     "iopub.execute_input": "2021-10-09T05:40:30.240705Z",
     "iopub.status.busy": "2021-10-09T05:40:30.239350Z",
     "iopub.status.idle": "2021-10-09T05:40:30.244429Z",
     "shell.execute_reply": "2021-10-09T05:40:30.243839Z",
     "shell.execute_reply.started": "2021-10-09T05:19:51.859050Z"
    },
    "papermill": {
     "duration": 0.309123,
     "end_time": "2021-10-09T05:40:30.244583",
     "exception": false,
     "start_time": "2021-10-09T05:40:29.935460",
     "status": "completed"
    },
    "tags": []
   },
   "outputs": [],
   "source": [
    "dataPath = \"/kaggle/input/m5-forecasting-accuracy/\""
   ]
  },
  {
   "cell_type": "code",
   "execution_count": 36,
   "id": "53cf3a12",
   "metadata": {
    "execution": {
     "iopub.execute_input": "2021-10-09T05:40:30.859062Z",
     "iopub.status.busy": "2021-10-09T05:40:30.858368Z",
     "iopub.status.idle": "2021-10-09T05:40:33.619359Z",
     "shell.execute_reply": "2021-10-09T05:40:33.618812Z",
     "shell.execute_reply.started": "2021-10-09T05:19:56.602142Z"
    },
    "papermill": {
     "duration": 3.070499,
     "end_time": "2021-10-09T05:40:33.619556",
     "exception": false,
     "start_time": "2021-10-09T05:40:30.549057",
     "status": "completed"
    },
    "tags": []
   },
   "outputs": [],
   "source": [
    "import time\n",
    "\n",
    "submission = pd.DataFrame(data=np.array(predictions).reshape(28,30490))\n",
    "\n",
    "submission = submission.T\n",
    "    \n",
    "submission = pd.concat((submission, submission), ignore_index=True)\n",
    "\n",
    "sample_submission = pd.read_csv(dataPath + \"/sample_submission.csv\")\n",
    "    \n",
    "idColumn = sample_submission[[\"id\"]]\n",
    "    \n",
    "submission[[\"id\"]] = idColumn  \n",
    "\n",
    "cols = list(submission.columns)\n",
    "cols = cols[-1:] + cols[:-1]\n",
    "submission = submission[cols]\n",
    "\n",
    "colsdeneme = [\"id\"] + [f\"F{i}\" for i in range (1,29)]\n",
    "\n",
    "submission.columns = colsdeneme\n",
    "\n",
    "currentDateTime = time.strftime(\"%d%m%Y_%H%M%S\")\n",
    "\n",
    "submission.to_csv(\"submission.csv\", index=False)"
   ]
  },
  {
   "cell_type": "code",
   "execution_count": 37,
   "id": "14401813",
   "metadata": {
    "execution": {
     "iopub.execute_input": "2021-10-09T05:40:34.240672Z",
     "iopub.status.busy": "2021-10-09T05:40:34.240021Z",
     "iopub.status.idle": "2021-10-09T05:40:34.245265Z",
     "shell.execute_reply": "2021-10-09T05:40:34.244757Z",
     "shell.execute_reply.started": "2021-10-09T05:20:03.467749Z"
    },
    "papermill": {
     "duration": 0.329825,
     "end_time": "2021-10-09T05:40:34.245432",
     "exception": false,
     "start_time": "2021-10-09T05:40:33.915607",
     "status": "completed"
    },
    "tags": []
   },
   "outputs": [
    {
     "data": {
      "text/html": [
       "<div>\n",
       "<style scoped>\n",
       "    .dataframe tbody tr th:only-of-type {\n",
       "        vertical-align: middle;\n",
       "    }\n",
       "\n",
       "    .dataframe tbody tr th {\n",
       "        vertical-align: top;\n",
       "    }\n",
       "\n",
       "    .dataframe thead th {\n",
       "        text-align: right;\n",
       "    }\n",
       "</style>\n",
       "<table border=\"1\" class=\"dataframe\">\n",
       "  <thead>\n",
       "    <tr style=\"text-align: right;\">\n",
       "      <th></th>\n",
       "      <th>id</th>\n",
       "      <th>F1</th>\n",
       "      <th>F2</th>\n",
       "      <th>F3</th>\n",
       "      <th>F4</th>\n",
       "      <th>F5</th>\n",
       "      <th>F6</th>\n",
       "      <th>F7</th>\n",
       "      <th>F8</th>\n",
       "      <th>F9</th>\n",
       "      <th>...</th>\n",
       "      <th>F19</th>\n",
       "      <th>F20</th>\n",
       "      <th>F21</th>\n",
       "      <th>F22</th>\n",
       "      <th>F23</th>\n",
       "      <th>F24</th>\n",
       "      <th>F25</th>\n",
       "      <th>F26</th>\n",
       "      <th>F27</th>\n",
       "      <th>F28</th>\n",
       "    </tr>\n",
       "  </thead>\n",
       "  <tbody>\n",
       "    <tr>\n",
       "      <th>0</th>\n",
       "      <td>HOBBIES_1_001_CA_1_validation</td>\n",
       "      <td>0.987258</td>\n",
       "      <td>0.907522</td>\n",
       "      <td>0.855718</td>\n",
       "      <td>0.851227</td>\n",
       "      <td>0.941525</td>\n",
       "      <td>1.279286</td>\n",
       "      <td>1.293656</td>\n",
       "      <td>0.950125</td>\n",
       "      <td>0.869013</td>\n",
       "      <td>...</td>\n",
       "      <td>0.918942</td>\n",
       "      <td>1.272523</td>\n",
       "      <td>1.239399</td>\n",
       "      <td>0.935563</td>\n",
       "      <td>0.868849</td>\n",
       "      <td>0.824669</td>\n",
       "      <td>0.814865</td>\n",
       "      <td>0.894559</td>\n",
       "      <td>1.208027</td>\n",
       "      <td>1.189286</td>\n",
       "    </tr>\n",
       "    <tr>\n",
       "      <th>1</th>\n",
       "      <td>HOBBIES_1_002_CA_1_validation</td>\n",
       "      <td>0.268116</td>\n",
       "      <td>0.304501</td>\n",
       "      <td>0.293827</td>\n",
       "      <td>0.284824</td>\n",
       "      <td>0.316871</td>\n",
       "      <td>0.432050</td>\n",
       "      <td>0.349945</td>\n",
       "      <td>0.279872</td>\n",
       "      <td>0.320550</td>\n",
       "      <td>...</td>\n",
       "      <td>0.353918</td>\n",
       "      <td>0.467513</td>\n",
       "      <td>0.370625</td>\n",
       "      <td>0.286291</td>\n",
       "      <td>0.327485</td>\n",
       "      <td>0.327756</td>\n",
       "      <td>0.329184</td>\n",
       "      <td>0.366439</td>\n",
       "      <td>0.476086</td>\n",
       "      <td>0.374077</td>\n",
       "    </tr>\n",
       "    <tr>\n",
       "      <th>2</th>\n",
       "      <td>HOBBIES_1_003_CA_1_validation</td>\n",
       "      <td>0.555646</td>\n",
       "      <td>0.505726</td>\n",
       "      <td>0.547263</td>\n",
       "      <td>0.653012</td>\n",
       "      <td>0.842296</td>\n",
       "      <td>1.121379</td>\n",
       "      <td>0.971419</td>\n",
       "      <td>0.542643</td>\n",
       "      <td>0.480142</td>\n",
       "      <td>...</td>\n",
       "      <td>0.848755</td>\n",
       "      <td>1.137706</td>\n",
       "      <td>0.953474</td>\n",
       "      <td>0.532046</td>\n",
       "      <td>0.496836</td>\n",
       "      <td>0.552585</td>\n",
       "      <td>0.653566</td>\n",
       "      <td>0.830005</td>\n",
       "      <td>1.089145</td>\n",
       "      <td>0.892362</td>\n",
       "    </tr>\n",
       "    <tr>\n",
       "      <th>3</th>\n",
       "      <td>HOBBIES_1_004_CA_1_validation</td>\n",
       "      <td>2.136581</td>\n",
       "      <td>1.490046</td>\n",
       "      <td>1.291162</td>\n",
       "      <td>1.304827</td>\n",
       "      <td>1.497584</td>\n",
       "      <td>2.321727</td>\n",
       "      <td>3.836878</td>\n",
       "      <td>2.164149</td>\n",
       "      <td>1.472658</td>\n",
       "      <td>...</td>\n",
       "      <td>1.534785</td>\n",
       "      <td>2.377651</td>\n",
       "      <td>3.785918</td>\n",
       "      <td>2.032299</td>\n",
       "      <td>1.426315</td>\n",
       "      <td>1.275418</td>\n",
       "      <td>1.341533</td>\n",
       "      <td>1.554465</td>\n",
       "      <td>2.359739</td>\n",
       "      <td>3.723386</td>\n",
       "    </tr>\n",
       "    <tr>\n",
       "      <th>4</th>\n",
       "      <td>HOBBIES_1_005_CA_1_validation</td>\n",
       "      <td>1.296787</td>\n",
       "      <td>1.150302</td>\n",
       "      <td>1.120056</td>\n",
       "      <td>1.120180</td>\n",
       "      <td>1.134436</td>\n",
       "      <td>1.196300</td>\n",
       "      <td>1.568214</td>\n",
       "      <td>1.224519</td>\n",
       "      <td>1.084606</td>\n",
       "      <td>...</td>\n",
       "      <td>1.092934</td>\n",
       "      <td>1.187104</td>\n",
       "      <td>1.545159</td>\n",
       "      <td>1.191575</td>\n",
       "      <td>1.076847</td>\n",
       "      <td>1.063580</td>\n",
       "      <td>1.066196</td>\n",
       "      <td>1.080040</td>\n",
       "      <td>1.147137</td>\n",
       "      <td>1.482070</td>\n",
       "    </tr>\n",
       "  </tbody>\n",
       "</table>\n",
       "<p>5 rows × 29 columns</p>\n",
       "</div>"
      ],
      "text/plain": [
       "                              id        F1        F2        F3        F4  \\\n",
       "0  HOBBIES_1_001_CA_1_validation  0.987258  0.907522  0.855718  0.851227   \n",
       "1  HOBBIES_1_002_CA_1_validation  0.268116  0.304501  0.293827  0.284824   \n",
       "2  HOBBIES_1_003_CA_1_validation  0.555646  0.505726  0.547263  0.653012   \n",
       "3  HOBBIES_1_004_CA_1_validation  2.136581  1.490046  1.291162  1.304827   \n",
       "4  HOBBIES_1_005_CA_1_validation  1.296787  1.150302  1.120056  1.120180   \n",
       "\n",
       "         F5        F6        F7        F8        F9  ...       F19       F20  \\\n",
       "0  0.941525  1.279286  1.293656  0.950125  0.869013  ...  0.918942  1.272523   \n",
       "1  0.316871  0.432050  0.349945  0.279872  0.320550  ...  0.353918  0.467513   \n",
       "2  0.842296  1.121379  0.971419  0.542643  0.480142  ...  0.848755  1.137706   \n",
       "3  1.497584  2.321727  3.836878  2.164149  1.472658  ...  1.534785  2.377651   \n",
       "4  1.134436  1.196300  1.568214  1.224519  1.084606  ...  1.092934  1.187104   \n",
       "\n",
       "        F21       F22       F23       F24       F25       F26       F27  \\\n",
       "0  1.239399  0.935563  0.868849  0.824669  0.814865  0.894559  1.208027   \n",
       "1  0.370625  0.286291  0.327485  0.327756  0.329184  0.366439  0.476086   \n",
       "2  0.953474  0.532046  0.496836  0.552585  0.653566  0.830005  1.089145   \n",
       "3  3.785918  2.032299  1.426315  1.275418  1.341533  1.554465  2.359739   \n",
       "4  1.545159  1.191575  1.076847  1.063580  1.066196  1.080040  1.147137   \n",
       "\n",
       "        F28  \n",
       "0  1.189286  \n",
       "1  0.374077  \n",
       "2  0.892362  \n",
       "3  3.723386  \n",
       "4  1.482070  \n",
       "\n",
       "[5 rows x 29 columns]"
      ]
     },
     "execution_count": 37,
     "metadata": {},
     "output_type": "execute_result"
    }
   ],
   "source": [
    "submission.head()"
   ]
  },
  {
   "cell_type": "code",
   "execution_count": 38,
   "id": "ad8c4633",
   "metadata": {
    "execution": {
     "iopub.execute_input": "2021-10-09T05:40:34.853526Z",
     "iopub.status.busy": "2021-10-09T05:40:34.852868Z",
     "iopub.status.idle": "2021-10-09T05:40:35.138718Z",
     "shell.execute_reply": "2021-10-09T05:40:35.137611Z",
     "shell.execute_reply.started": "2021-10-07T06:59:42.205366Z"
    },
    "papermill": {
     "duration": 0.588581,
     "end_time": "2021-10-09T05:40:35.139052",
     "exception": true,
     "start_time": "2021-10-09T05:40:34.550471",
     "status": "failed"
    },
    "tags": []
   },
   "outputs": [
    {
     "ename": "NameError",
     "evalue": "name 'ss' is not defined",
     "output_type": "error",
     "traceback": [
      "\u001b[0;31m---------------------------------------------------------------------------\u001b[0m",
      "\u001b[0;31mNameError\u001b[0m                                 Traceback (most recent call last)",
      "\u001b[0;32m/tmp/ipykernel_19/164596383.py\u001b[0m in \u001b[0;36m<module>\u001b[0;34m\u001b[0m\n\u001b[0;32m----> 1\u001b[0;31m \u001b[0mss\u001b[0m\u001b[0;34m\u001b[0m\u001b[0;34m\u001b[0m\u001b[0m\n\u001b[0m",
      "\u001b[0;31mNameError\u001b[0m: name 'ss' is not defined"
     ]
    }
   ],
   "source": [
    "ss"
   ]
  }
 ],
 "metadata": {
  "kernelspec": {
   "display_name": "Python 3",
   "language": "python",
   "name": "python3"
  },
  "language_info": {
   "codemirror_mode": {
    "name": "ipython",
    "version": 3
   },
   "file_extension": ".py",
   "mimetype": "text/x-python",
   "name": "python",
   "nbconvert_exporter": "python",
   "pygments_lexer": "ipython3",
   "version": "3.7.10"
  },
  "papermill": {
   "default_parameters": {},
   "duration": 887.294068,
   "end_time": "2021-10-09T05:40:38.388843",
   "environment_variables": {},
   "exception": true,
   "input_path": "__notebook__.ipynb",
   "output_path": "__notebook__.ipynb",
   "parameters": {},
   "start_time": "2021-10-09T05:25:51.094775",
   "version": "2.3.3"
  }
 },
 "nbformat": 4,
 "nbformat_minor": 5
}
